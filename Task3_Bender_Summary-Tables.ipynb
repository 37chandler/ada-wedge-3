{
 "cells": [
  {
   "cell_type": "markdown",
   "metadata": {},
   "source": [
    "## Summary Tables\n",
    "#### *Creating summary tables for three different queries of the Wedge data*"
   ]
  },
  {
   "cell_type": "markdown",
   "metadata": {},
   "source": [
    "### Code imports & set GBQ connection"
   ]
  },
  {
   "cell_type": "code",
   "execution_count": 2,
   "metadata": {},
   "outputs": [],
   "source": [
    "# Do our imports for the code\n",
    "import os\n",
    "import io\n",
    "from google.cloud import bigquery\n",
    "from google.oauth2 import service_account"
   ]
  },
  {
   "cell_type": "code",
   "execution_count": 3,
   "metadata": {},
   "outputs": [],
   "source": [
    "# set up connection to Google Big Query\n",
    "service_path = \"/Users/natebender/Desktop/Wedgekey/\"\n",
    "service_file = 'Bender-Wedge-79e456939915.json' # change this to your authentication information  \n",
    "gbq_proj_id = 'bender-wedge' # change this to your project. \n",
    "gbq_dataset_id = 'wedgeclean' # and change this to your data set ID\n",
    "\n",
    "private_key = service_path + service_file"
   ]
  },
  {
   "cell_type": "code",
   "execution_count": 4,
   "metadata": {},
   "outputs": [],
   "source": [
    "# Identify path to the clean Wedge files and establish a list to store the files\n",
    "clean_files = \"/Users/natebender/Desktop/Repo/ada-wedge/data/\"\n",
    "clean_wedge_files = os.listdir(clean_files)\n",
    "\n",
    "# Now we pass in our credentials so that Python has permission to access our project.\n",
    "credentials = service_account.Credentials.from_service_account_file(service_path + service_file)\n",
    "\n",
    "# And finally we establish our connection\n",
    "client = bigquery.Client(credentials = credentials, project=gbq_proj_id)"
   ]
  },
  {
   "cell_type": "markdown",
   "metadata": {},
   "source": [
    "### Connect to SQLite and create database for this project"
   ]
  },
  {
   "cell_type": "code",
   "execution_count": 8,
   "metadata": {},
   "outputs": [],
   "source": [
    "# connect to sqlite and create the WedgeTask3 database file\n",
    "import sqlite3\n",
    "db = sqlite3.connect(\"NBwedgetask3.db\")\n",
    "cur = db.cursor()"
   ]
  },
  {
   "cell_type": "markdown",
   "metadata": {},
   "source": [
    "### Extract sales by date by hour data from GBQ, input into database \n",
    "#### *Example use case: how have our per-day sales changed over the last few months?*"
   ]
  },
  {
   "cell_type": "code",
   "execution_count": 6,
   "metadata": {},
   "outputs": [],
   "source": [
    "# First query of Wedge data in GBQ: Date, Hour, Sales, Transactions, and Items\n",
    "query1 = (\n",
    "    \"\"\"SELECT (EXTRACT(date FROM datetime)) AS Date,\n",
    "    (EXTRACT(hour FROM datetime)) AS Hour,\n",
    "    SUM(total) AS Sales,\n",
    "    COUNT(DISTINCT(Date(datetime) || register_no || emp_no || trans_no)) AS Transactions,\n",
    "    SUM(CASE WHEN(trans_status = 'V' OR trans_status = 'R') THEN -1 ELSE 1 END) as Items\n",
    "    FROM `wedgeclean.wedge-data-all` \n",
    "    WHERE card_no != 3\n",
    "    AND department != 0\n",
    "    AND department != 15\n",
    "    AND trans_status != 'M'\n",
    "    AND trans_status != 'C'\n",
    "    AND trans_status != 'J'\n",
    "    AND (trans_status = ''\n",
    "    OR trans_status = ' '\n",
    "    OR trans_status =  'V'\n",
    "    OR trans_status = 'R')\n",
    "    GROUP BY Date, Hour\n",
    "    ORDER BY Date, Hour\"\"\"\n",
    ")\n",
    "\n",
    "# And we execute queries with `client.query`\n",
    "results1 = client.query(\n",
    "    query1,\n",
    "    location=\"US\",\n",
    ")"
   ]
  },
  {
   "cell_type": "code",
   "execution_count": 7,
   "metadata": {},
   "outputs": [],
   "source": [
    "# output the first query results as a text file\n",
    "with open('Sales_by_Date_Hour.txt', 'w') as outfile :\n",
    "    for line in results1 :\n",
    "        row = [str(item) for item in line]\n",
    "        outfile.write(\",\".join(row) + \"\\n\")\n",
    "    "
   ]
  },
  {
   "cell_type": "code",
   "execution_count": 9,
   "metadata": {},
   "outputs": [],
   "source": [
    "# input the results of the first query into the NBwedgetask3 database as the table Sales_by_Date_Hour\n",
    "input_file1 = \"Sales_by_Date_Hour.txt\"\n",
    "\n",
    "db = sqlite3.connect(\"NBwedgetask3.db\") # connect to the WedgeTask 3 database\n",
    "cur = db.cursor()\n",
    "\n",
    "cur.execute('''DROP TABLE IF EXISTS Sales_by_Date_Hour''') # remove the table if it already exists\n",
    "\n",
    "# create the table in the connected database and set up the schema\n",
    "cur.execute('''CREATE TABLE Sales_by_Date_Hour (\n",
    "    Date TIMESTAMP,\n",
    "    Hour TIMESTAMP,\n",
    "    Sales REAL,\n",
    "    Transactions INTEGER,\n",
    "    Items TEXT)''')\n",
    "\n",
    "# input the Sales by Date by Hour text data into the established table in the database\n",
    "with open(input_file1, 'r', encoding = 'Latin-1') as infile:\n",
    "    for idx,line in enumerate(infile.readlines()):\n",
    "        line = line.strip().split(',')\n",
    "        cur.execute('''\n",
    "        INSERT INTO Sales_by_Date_Hour (Date, Hour, Sales, Transactions, Items)\n",
    "        VALUES (?,?,?,?,?)''', line)\n",
    "db.commit()"
   ]
  },
  {
   "cell_type": "markdown",
   "metadata": {},
   "source": [
    "### Extract sales by owner by year and month, input into database\n",
    "#### *Example use case: What is our most popular item in each department?*\n",
    "#### *This table has the following columns: card_no, year, month, sales, transactions, and items.*"
   ]
  },
  {
   "cell_type": "code",
   "execution_count": 10,
   "metadata": {},
   "outputs": [],
   "source": [
    "# Second Query of Wedge data in GBQ - Owner, Year, Month, Sales, Transactions, and Items\n",
    "query2 = (\n",
    "    \"\"\"SELECT card_no As Owner,\n",
    "    (EXTRACT(year FROM datetime)) AS Year,\n",
    "    (EXTRACT(month FROM datetime)) AS Month,\n",
    "    SUM(total) AS Sales,\n",
    "    COUNT(DISTINCT(Date(datetime) || register_no || emp_no || trans_no)) AS Transactions,\n",
    "    SUM(CASE WHEN(trans_status = 'V' OR trans_status = 'R') THEN -1 ELSE 1 END) as Items\n",
    "    FROM `wedgeclean.wedge-data-all` \n",
    "    WHERE card_no != 3\n",
    "    AND department != 0\n",
    "    AND department != 15\n",
    "    AND trans_status != 'M'\n",
    "    AND trans_status != 'C'\n",
    "    AND trans_status != 'J'\n",
    "    AND (trans_status = ''\n",
    "    OR trans_status = ' '\n",
    "    OR trans_status =  'V'\n",
    "    OR trans_status = 'R')\n",
    "    GROUP BY Owner, Year, Month\n",
    "    ORDER BY Owner, Year, Month DESC\"\"\"\n",
    ")\n",
    "\n",
    "# And we execute queries with `client.query`\n",
    "results2 = client.query(\n",
    "    query2,\n",
    "    location=\"US\",\n",
    ")"
   ]
  },
  {
   "cell_type": "code",
   "execution_count": 11,
   "metadata": {},
   "outputs": [],
   "source": [
    "# output the second query results as a text file\n",
    "with open('Sales_by_Owner_Date.txt', 'w') as outfile :\n",
    "    for line in results2 :\n",
    "        row = [str(item) for item in line]\n",
    "        outfile.write(\",\".join(row) + \"\\n\")\n",
    "        "
   ]
  },
  {
   "cell_type": "code",
   "execution_count": 12,
   "metadata": {},
   "outputs": [],
   "source": [
    "# input the results of the first query into the NBwedgetask3 database as the table Sales_by_Owner_Date\n",
    "input_file2 = \"Sales_by_Owner_Date.txt\"\n",
    "\n",
    "db = sqlite3.connect(\"NBwedgetask3.db\") # connect to the WedgeTask 3 database\n",
    "cur = db.cursor()\n",
    "\n",
    "cur.execute('''DROP TABLE IF EXISTS Sales_by_Owner_Date''') # remove the table if it already exists\n",
    "\n",
    "# create the table in the connected database and set up the schema\n",
    "cur.execute('''CREATE TABLE Sales_by_Owner_Date (\n",
    "    Owner INTEGER,\n",
    "    Year TIMESTAMP,\n",
    "    Month TIMESTAMP,\n",
    "    Sales REAL,\n",
    "    Transactions INTEGER,\n",
    "    Items TEXT)''')\n",
    "\n",
    "# input the Sales by Owner by Date text data into the established table in the database\n",
    "with open(input_file2, 'r', encoding = 'Latin-1') as infile:\n",
    "    for idx,line in enumerate(infile.readlines()):\n",
    "        line = line.strip().split(',')\n",
    "        cur.execute('''\n",
    "        INSERT INTO Sales_by_Owner_Date (Owner, Year, Month, Sales, Transactions, Items)\n",
    "        VALUES (?,?,?,?,?,?)''', line)\n",
    "db.commit()"
   ]
  },
  {
   "cell_type": "markdown",
   "metadata": {},
   "source": [
    "### Extract sales by product description by year and month, input into database\n",
    "#### *Example use case: which owners spend the most per month in each department?*\n",
    "#### *This table has the following columns: upc, description, department number, department name, year, month, sales, transactions, and items.*"
   ]
  },
  {
   "cell_type": "code",
   "execution_count": 13,
   "metadata": {},
   "outputs": [],
   "source": [
    "# Third Query of Wedge data in GBQ - Product, Date, Sales, Transactions, and Items\n",
    "query3 = (\n",
    "    \"\"\"SELECT Upc AS UPC,\n",
    "    description AS Product,\n",
    "    a.department AS Department,\n",
    "    b.dept_name AS Dept_Name,\n",
    "    (EXTRACT(year FROM datetime)) AS Year,\n",
    "    (EXTRACT(month FROM datetime)) AS Month,\n",
    "    SUM(total) AS Sales,\n",
    "    COUNT(DISTINCT(Date(datetime) || register_no || emp_no || trans_no)) AS Transactions,\n",
    "    SUM(CASE WHEN(trans_status = 'V' OR trans_status = 'R') THEN -1 ELSE 1 END) as Items\n",
    "    FROM `wedgeclean.wedge-data-all` a\n",
    "    LEFT OUTER JOIN `wedgeclean.department_lookup` b\n",
    "    ON a.department = b.department\n",
    "    WHERE card_no != 3\n",
    "    AND a.department != 0\n",
    "    AND a.department != 15\n",
    "    AND trans_status != 'M'\n",
    "    AND trans_status != 'C'\n",
    "    AND trans_status != 'J'\n",
    "    AND (trans_status = ''\n",
    "    OR trans_status = ' '\n",
    "    OR trans_status =  'V'\n",
    "    OR trans_status = 'R')\n",
    "    GROUP BY UPC, Product, Department, Dept_Name, Year, Month\n",
    "    ORDER BY UPC, Product, Department, Dept_Name, Year, Month DESC\"\"\"\n",
    ")\n",
    "\n",
    "# And we execute queries with `client.query`\n",
    "results3 = client.query(\n",
    "    query3,\n",
    "    location=\"US\",\n",
    ")"
   ]
  },
  {
   "cell_type": "code",
   "execution_count": 14,
   "metadata": {},
   "outputs": [],
   "source": [
    "# output the third query results as a text file\n",
    "with open('Sales_by_Product_Date.txt', 'w') as outfile :\n",
    "    for line in results3 :\n",
    "        row = [str(item) for item in line]\n",
    "        outfile.write(\",\".join(row) + \"\\n\")"
   ]
  },
  {
   "cell_type": "code",
   "execution_count": 16,
   "metadata": {},
   "outputs": [],
   "source": [
    "# input the results of the third query into the NBwedgetask3 database as the table Sales_by_Product_Date\n",
    "input_file3 = \"Sales_by_Product_Date.txt\"\n",
    "\n",
    "db = sqlite3.connect(\"NBwedgetask3.db\")# connect to the WedgeTask 3 database\n",
    "cur = db.cursor()\n",
    "\n",
    "cur.execute('''DROP TABLE IF EXISTS Sales_by_Product_Date''') # remove the table if it already exists\n",
    "\n",
    "# create the table in the connected database and set up the schema\n",
    "cur.execute('''CREATE TABLE Sales_by_Product_Date (\n",
    "    UPC STRING,\n",
    "    Description STRING,\n",
    "    Department FLOAT,\n",
    "    Dept_Name STRING,\n",
    "    Year TIMESTAMP,\n",
    "    Month TIMESTAMP,\n",
    "    Sales REAL,\n",
    "    Transactions INTEGER,\n",
    "    Items TEXT)''')\n",
    "\n",
    "# input the Sales by Product by Date text data into the established table in the database\n",
    "with open(input_file3, 'r', encoding = 'Latin-1') as infile:\n",
    "    for idx,line in enumerate(infile.readlines()):\n",
    "        line = line.strip().split(',')\n",
    "        cur.execute('''\n",
    "        INSERT INTO Sales_by_Product_Date (UPC, Description, Department, Dept_Name, Year, Month, Sales, Transactions, Items)\n",
    "        VALUES (?,?,?,?,?,?,?,?,?)''', line)\n",
    "db.commit()"
   ]
  }
 ],
 "metadata": {
  "kernelspec": {
   "display_name": "Python 3",
   "language": "python",
   "name": "python3"
  },
  "language_info": {
   "codemirror_mode": {
    "name": "ipython",
    "version": 3
   },
   "file_extension": ".py",
   "mimetype": "text/x-python",
   "name": "python",
   "nbconvert_exporter": "python",
   "pygments_lexer": "ipython3",
   "version": "3.8.3"
  }
 },
 "nbformat": 4,
 "nbformat_minor": 4
}

{
 "cells": [
  {
   "cell_type": "markdown",
   "metadata": {},
   "source": [
    "# Task 2 - Sample of Owners"
   ]
  },
  {
   "cell_type": "markdown",
   "metadata": {},
   "source": [
    "### GBQ connection, credentials"
   ]
  },
  {
   "cell_type": "code",
   "execution_count": 15,
   "metadata": {},
   "outputs": [],
   "source": [
    "#import connection services to google big query and connect\n",
    "from google.cloud import bigquery\n",
    "from google.oauth2 import service_account\n",
    "\n",
    "service_path = \"/Users/natebender/Desktop/Wedgekey/\"\n",
    "service_file = 'Bender-Wedge-79e456939915.json' # change this to your authentication information  \n",
    "gbq_proj_id = 'bender-wedge' # change this to your project. \n",
    "gbq_dataset_id = 'wedgeclean' # and change this to your data set ID"
   ]
  },
  {
   "cell_type": "code",
   "execution_count": 16,
   "metadata": {},
   "outputs": [],
   "source": [
    "private_key = service_path + service_file\n",
    "\n",
    "# Get your credentials\n",
    "credentials = service_account.Credentials.from_service_account_file(service_path + service_file)\n",
    "\n",
    "# And create a client to talk to GBQ\n",
    "client = bigquery.Client(credentials = credentials, project=gbq_proj_id)"
   ]
  },
  {
   "cell_type": "markdown",
   "metadata": {},
   "source": [
    "### Find unique owners, exclude non-owners"
   ]
  },
  {
   "cell_type": "code",
   "execution_count": 17,
   "metadata": {},
   "outputs": [],
   "source": [
    "# set a query for GBQ that asks for unique owners who are not equal to 3 - the code for nonowners\n",
    "query = (\n",
    "    \"SELECT DISTINCT card_no \"\n",
    "    \"FROM `wedgeclean.wedge-data-all` \"\n",
    "    \"WHERE card_no != 3 \"\n",
    ")\n",
    "\n",
    "# execute the query in GBQ with `client.query`\n",
    "results = client.query(\n",
    "    query,\n",
    "    location=\"US\",\n",
    ")"
   ]
  },
  {
   "cell_type": "code",
   "execution_count": 18,
   "metadata": {},
   "outputs": [
    {
     "data": {
      "text/plain": [
       "27207"
      ]
     },
     "execution_count": 18,
     "metadata": {},
     "output_type": "execute_result"
    }
   ],
   "source": [
    "# view the number of items returned by the query\n",
    "len(list(results))"
   ]
  },
  {
   "cell_type": "code",
   "execution_count": 19,
   "metadata": {},
   "outputs": [
    {
     "data": {
      "text/plain": [
       "[Row((52722.0,), {'card_no': 0}),\n",
       " Row((12184.0,), {'card_no': 0}),\n",
       " Row((11310.0,), {'card_no': 0}),\n",
       " Row((53287.0,), {'card_no': 0}),\n",
       " Row((23304.0,), {'card_no': 0}),\n",
       " Row((10442.0,), {'card_no': 0}),\n",
       " Row((18487.0,), {'card_no': 0}),\n",
       " Row((57275.0,), {'card_no': 0}),\n",
       " Row((52914.0,), {'card_no': 0}),\n",
       " Row((10363.0,), {'card_no': 0})]"
      ]
     },
     "execution_count": 19,
     "metadata": {},
     "output_type": "execute_result"
    }
   ],
   "source": [
    "# view the first 10 results of the query\n",
    "list(results)[:10]"
   ]
  },
  {
   "cell_type": "markdown",
   "metadata": {},
   "source": [
    "### Take random sample of owners"
   ]
  },
  {
   "cell_type": "code",
   "execution_count": 20,
   "metadata": {},
   "outputs": [
    {
     "name": "stdout",
     "output_type": "stream",
     "text": [
      "[20441.0, 21446.0, 50586.0, 48839.0, 64832.0, 50426.0, 18611.0, 48648.0, 49711.0, 44262.0, 50570.0, 40960.0, 54226.0, 18820.0, 26173.0, 25429.0, 21192.0, 30494.0, 11258.0, 65400.0, 20886.0, 21922.0, 64785.0, 22445.0, 48713.0, 19705.0, 50847.0, 50286.0, 18816.0, 19417.0, 21349.0, 30417.0, 21887.0, 48016.0, 51206.0, 17850.0, 21362.0, 34654.0, 44265.0, 64348.0, 34790.0, 25905.0, 14815.0, 38138.0, 50454.0, 36133.0, 36985.0, 48595.0, 23062.0, 15632.0, 16175.0, 40897.0, 13011.0, 16286.0, 11951.0, 41259.0, 49027.0, 40400.0, 45144.0, 18939.0, 51055.0, 21727.0, 50755.0, 49446.0, 48388.0, 18593.0, 17972.0, 15424.0, 52179.0, 23654.0, 21471.0, 44335.0, 45160.0, 49690.0, 51045.0, 11627.0, 12919.0, 19990.0, 15878.0, 55898.0, 35264.0, 23663.0, 44828.0, 13310.0, 23665.0, 20108.0, 50347.0, 38439.0, 27201.0, 17358.0, 41167.0, 52104.0, 17223.0, 11825.0, 15856.0, 19315.0, 17228.0, 23257.0, 14960.0, 64256.0, 23595.0, 14160.0, 10576.0, 19077.0, 52669.0, 56636.0, 52514.0, 25068.0, 13814.0, 52140.0, 23379.0, 66062.0, 65063.0, 31356.0, 26409.0, 16550.0, 52688.0, 21587.0, 38309.0, 49283.0, 52257.0, 18292.0, 21287.0, 17116.0, 19094.0, 31196.0, 51004.0, 52065.0, 16555.0, 20299.0, 20739.0, 10728.0, 22013.0, 19048.0, 64272.0, 13326.0, 64563.0, 27169.0, 13564.0, 51833.0, 47447.0, 49212.0, 11047.0, 14455.0, 21330.0, 22985.0, 52789.0, 65870.0, 48291.0, 15161.0, 49269.0, 22609.0, 52532.0, 11803.0, 23360.0, 11834.0, 10411.0, 47372.0, 49591.0, 25564.0, 21015.0, 34438.0, 30269.0, 16475.0, 44862.0, 49441.0, 31930.0, 12041.0, 21993.0, 23585.0, 20142.0, 23334.0, 12160.0, 26680.0, 19826.0, 48650.0, 49124.0, 37510.0, 15420.0, 23937.0, 27086.0, 22097.0, 10977.0, 20208.0, 38305.0, 13673.0, 25048.0, 46703.0, 16874.0, 40182.0, 17082.0, 31077.0, 20814.0, 12179.0, 18530.0, 18674.0, 44545.0, 23225.0, 16404.0, 64459.0, 25768.0, 11350.0, 16740.0, 64474.0, 50882.0, 15700.0, 12421.0, 12850.0, 58382.0, 14113.0, 65524.0, 47999.0, 64524.0, 65454.0, 19281.0, 26849.0, 16686.0, 24557.0, 57117.0, 12714.0, 50348.0, 17121.0, 42203.0, 50916.0, 16957.0, 58325.0, 27208.0, 16316.0, 37173.0, 21156.0, 31391.0, 42802.0, 65098.0, 25371.0, 37194.0, 13188.0, 21885.0, 64490.0, 52771.0, 40353.0, 52556.0, 18769.0, 15609.0, 11672.0, 10214.0, 20567.0, 16868.0, 52367.0, 50010.0, 11896.0, 65064.0, 44945.0, 49481.0, 10610.0, 18874.0, 44811.0, 24777.0, 50697.0, 51905.0, 16989.0, 55801.0, 13155.0, 25167.0, 51667.0, 65327.0, 19980.0, 47927.0, 13788.0, 25663.0, 44632.0, 21158.0, 20843.0, 25206.0, 18856.0, 51566.0, 52812.0, 14075.0, 31558.0, 39125.0, 20926.0, 10491.0, 12043.0, 21627.0, 24240.0, 22598.0, 38854.0, 65253.0, 24455.0, 18334.0, 12342.0, 19039.0, 52542.0, 50582.0, 51628.0, 20020.0, 40606.0, 13991.0, 10426.0, 65847.0, 19185.0, 20948.0, 14301.0, 13761.0, 44823.0, 64637.0, 44285.0, 17175.0, 11166.0, 25664.0, 49901.0, 65854.0, 51614.0, 21841.0, 10782.0, 63457.0, 15324.0, 25769.0, 35020.0, 10724.0, 14923.0, 65869.0, 21832.0, 11859.0, 18402.0, 14024.0, 23101.0, 15244.0, 25919.0, 18583.0, 62977.0, 65896.0, 54285.0, 18777.0, 17280.0, 38295.0, 48698.0, 20181.0, 59594.0, 16428.0, 12403.0, 21981.0, 19622.0, 50071.0, 23291.0, 23439.0, 52586.0, 21790.0, 20340.0, 17615.0, 48667.0, 52067.0, 50842.0, 65469.0, 51976.0, 49017.0, 50492.0, 21338.0, 45001.0, 49097.0, 47321.0, 18720.0, 24456.0, 41341.0, 36202.0, 25442.0, 36504.0, 12559.0, 13904.0, 19882.0, 50356.0, 35080.0, 65499.0, 50843.0, 21238.0, 43387.0, 11655.0, 20850.0, 21537.0, 18746.0, 52017.0, 52065.0, 16680.0, 34777.0, 13741.0, 19993.0, 65848.0, 15150.0, 64583.0, 47332.0, 27689.0, 25076.0, 16587.0, 47922.0, 64916.0, 36807.0, 50328.0, 11414.0, 25687.0, 16462.0, 13667.0, 14634.0, 23466.0, 64754.0, 11188.0, 42276.0, 20802.0, 51581.0, 15660.0, 64664.0, 10386.0, 13232.0, 20267.0, 10217.0, 51266.0, 15493.0, 10307.0, 49850.0, 47902.0, 24216.0, 21998.0, 50739.0, 21308.0, 17493.0, 47868.0, 13976.0, 13504.0, 23120.0, 18586.0, 44927.0, 49375.0, 43208.0, 11163.0, 38850.0, 25089.0, 51624.0, 10494.0, 24414.0, 53840.0, 64406.0, 26578.0, 50696.0, 17427.0, 40190.0, 49697.0, 50011.0, 41169.0, 41579.0, 18476.0, 19262.0, 12454.0]\n"
     ]
    }
   ],
   "source": [
    "# import the python random package to randomly sample the results of the owner query\n",
    "import random\n",
    "\n",
    "# set the owners value to empty\n",
    "owners = []\n",
    "\n",
    "# add sampled owner to the owners list\n",
    "for owner in results :\n",
    "    owners.append(owner[0])\n",
    "\n",
    "# random sample owners from the query\n",
    "sample = random.choices(owners, k=450)\n",
    "new_sample = list(sample)\n",
    "\n",
    "# show the sampled owners\n",
    "print(sample)"
   ]
  },
  {
   "cell_type": "markdown",
   "metadata": {},
   "source": [
    "### Select the sample of owners from GBQ"
   ]
  },
  {
   "cell_type": "code",
   "execution_count": 21,
   "metadata": {},
   "outputs": [],
   "source": [
    "# create a new query for GBQ using the random sample of owners\n",
    "query = (\n",
    "    \"SELECT * \"\n",
    "    \"FROM `wedgeclean.wedge-data-all` \"\n",
    "    \"WHERE card_no in ( \"\n",
    ")\n",
    "\n",
    "for card in sample:\n",
    "    query += str(card) + \", \"\n",
    "query = query[:-2] + ')'\n",
    "\n",
    "# execute the query in GBQ with `client.query`\n",
    "results = client.query(\n",
    "    query,\n",
    "    location=\"US\",\n",
    ")    "
   ]
  },
  {
   "cell_type": "markdown",
   "metadata": {},
   "source": [
    "### Format the sample owners list with headers, save into text file"
   ]
  },
  {
   "cell_type": "code",
   "execution_count": 22,
   "metadata": {},
   "outputs": [],
   "source": [
    "# set up headers for the text file with the data returned from the sampled owners query\n",
    "headers = [\"datetime\",\"register_no\",\"emp_no\",\"trans_no\",\"upc\",\"description\",\"trans_type\",\"trans_subtype\",\"trans_status\",\"department\",\"quantity\",\"Scale\",\"cost\",\"unitPrice\",\"total\",\"regPrice\",\"altPrice\",\"tax\",\"taxexempt\",\"foodstamp\",\"wicable\",\"discount\",\"memDiscount\",\"discountable\",\"discounttype\",\"voided\",\"percentDiscount\",\"ItemQtty\",\"volDiscType\",\"volume\",\"VolSpecial\",\"mixMatch\",\"matched\",\"memType\",\"staff\",\"numflag\",\"itemstatus\",\"tenderstatus\",\"charflag\",\"varflag\",\"batchHeaderID\",\"local\",\"organic\",\"display\",\"receipt\",\"card_no\",\"store\",\"branch\",\"match_id\",\"trans_id\"]\n",
    "\n",
    "# create and save the data returned from the sampled owners into a text file with the headers\n",
    "with open('sample_owners.txt', 'w') as outfile :\n",
    "    outfile.write(','.join(headers) + \"\\n\") \n",
    "    for line in results :\n",
    "        row = [str(item) for item in line]\n",
    "        outfile.write(\",\".join(row) + \"\\n\")"
   ]
  },
  {
   "cell_type": "code",
   "execution_count": null,
   "metadata": {},
   "outputs": [],
   "source": []
  }
 ],
 "metadata": {
  "kernelspec": {
   "display_name": "Python 3",
   "language": "python",
   "name": "python3"
  },
  "language_info": {
   "codemirror_mode": {
    "name": "ipython",
    "version": 3
   },
   "file_extension": ".py",
   "mimetype": "text/x-python",
   "name": "python",
   "nbconvert_exporter": "python",
   "pygments_lexer": "ipython3",
   "version": "3.8.3"
  }
 },
 "nbformat": 4,
 "nbformat_minor": 4
}
